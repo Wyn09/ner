{
 "cells": [
  {
   "cell_type": "code",
   "execution_count": 16,
   "metadata": {},
   "outputs": [],
   "source": [
    "import torch\n",
    "from tiktoken._educational import SimpleBytePairEncoding\n",
    "import re"
   ]
  },
  {
   "cell_type": "code",
   "execution_count": 3,
   "metadata": {},
   "outputs": [],
   "source": [
    "enc = SimpleBytePairEncoding.from_tiktoken(\"o200k_base\")"
   ]
  },
  {
   "cell_type": "code",
   "execution_count": 29,
   "metadata": {},
   "outputs": [
    {
     "data": {
      "text/plain": [
       "['好',\n",
       " '精品',\n",
       " '天天中彩票',\n",
       " '入',\n",
       " '字',\n",
       " '者',\n",
       " '韛',\n",
       " '播',\n",
       " '特',\n",
       " '点',\n",
       " '这',\n",
       " '划',\n",
       " '性',\n",
       " '动',\n",
       " '心',\n",
       " '商',\n",
       " '业',\n",
       " '间',\n",
       " '部',\n",
       " '学',\n",
       " '级',\n",
       " '重庆时时彩',\n",
       " '事',\n",
       " '定',\n",
       " '里',\n",
       " '买',\n",
       " '后',\n",
       " '度',\n",
       " '关',\n",
       " '水',\n",
       " '球',\n",
       " '工',\n",
       " '网址',\n",
       " '计划',\n",
       " '玩',\n",
       " '通',\n",
       " '清',\n",
       " '日本',\n",
       " '无码',\n",
       " '投',\n",
       " '加',\n",
       " '香',\n",
       " '规',\n",
       " '源',\n",
       " '钱内',\n",
       " '信',\n",
       " '料',\n",
       " '表',\n",
       " '国产',\n",
       " '对',\n",
       " '系',\n",
       " '报',\n",
       " '直',\n",
       " '登',\n",
       " '软',\n",
       " '在线观看',\n",
       " '美',\n",
       " '实',\n",
       " '戏',\n",
       " '综',\n",
       " '同',\n",
       " '说',\n",
       " '结',\n",
       " '送',\n",
       " '服',\n",
       " '位',\n",
       " '接',\n",
       " '城',\n",
       " '综合',\n",
       " '什',\n",
       " '放',\n",
       " '软件',\n",
       " '爱彩票',\n",
       " '面']"
      ]
     },
     "execution_count": 29,
     "metadata": {},
     "output_type": "execute_result"
    }
   ],
   "source": [
    "str_ = enc.decode(list(range(8060, 10000)))\n",
    "re.findall(\"[\\u4e00-\\u9fff]+\", str_)"
   ]
  },
  {
   "cell_type": "code",
   "execution_count": null,
   "metadata": {},
   "outputs": [],
   "source": []
  }
 ],
 "metadata": {
  "kernelspec": {
   "display_name": "dev",
   "language": "python",
   "name": "python3"
  },
  "language_info": {
   "codemirror_mode": {
    "name": "ipython",
    "version": 3
   },
   "file_extension": ".py",
   "mimetype": "text/x-python",
   "name": "python",
   "nbconvert_exporter": "python",
   "pygments_lexer": "ipython3",
   "version": "3.10.16"
  }
 },
 "nbformat": 4,
 "nbformat_minor": 2
}
