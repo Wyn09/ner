{
 "cells": [
  {
   "cell_type": "code",
   "execution_count": 6,
   "metadata": {},
   "outputs": [],
   "source": [
    "import torch\n",
    "from transformers import AutoTokenizer"
   ]
  },
  {
   "cell_type": "code",
   "execution_count": 16,
   "metadata": {},
   "outputs": [],
   "source": [
    "tokenizer = AutoTokenizer.from_pretrained(\"./pretrained_models/bert-base-chinese\")\n",
    "cn_txt = \"doing running unbelieve\"\n",
    "input_data = tokenizer(cn_txt, add_special_tokens=False)\n",
    "token_idx = tokenizer.encode(cn_txt, add_special_tokens=False)\n",
    "tokens = tokenizer.decode(token_idx)\n",
    "word_ids = input_data.word_ids(0)"
   ]
  },
  {
   "cell_type": "code",
   "execution_count": 23,
   "metadata": {},
   "outputs": [
    {
     "name": "stdout",
     "output_type": "stream",
     "text": [
      "23\n",
      "8\n",
      "[9962, 8291, 11620, 163, 8171, 12157, 8402, 8519]\n",
      "[9962, 8291, 11620, 163, 8171, 12157, 8402, 8519]\n",
      "doing running unbelieve\n",
      "[0, 0, 1, 2, 2, 2, 2, 2]\n",
      "['doi', '##ng', 'running', 'u', '##n', '##bel', '##ie', '##ve']\n"
     ]
    }
   ],
   "source": [
    "print(len(cn_txt))\n",
    "print(len(token_idx))\n",
    "print(input_data[\"input_ids\"])\n",
    "print(token_idx)\n",
    "print(tokens)\n",
    "print(word_ids)\n",
    "print([tokenizer.decode(tk_ids) for tk_ids in input_data[\"input_ids\"]])"
   ]
  },
  {
   "cell_type": "code",
   "execution_count": 4,
   "metadata": {},
   "outputs": [
    {
     "name": "stdout",
     "output_type": "stream",
     "text": [
      "{'input_ids': [[9962, 8291, 11620, 163, 8171, 12157, 8402, 8519]], 'token_type_ids': [[0, 0, 0, 0, 0, 0, 0, 0]], 'attention_mask': [[1, 1, 1, 1, 1, 1, 1, 1]]}\n",
      "[9962, 8291, 11620, 163, 8171, 12157, 8402, 8519]\n"
     ]
    }
   ],
   "source": [
    "print(input_data)\n",
    "print(token_idx)"
   ]
  },
  {
   "cell_type": "code",
   "execution_count": 5,
   "metadata": {},
   "outputs": [
    {
     "data": {
      "text/plain": [
       "[0, 0, 1, 2, 2, 2, 2, 2]"
      ]
     },
     "execution_count": 5,
     "metadata": {},
     "output_type": "execute_result"
    }
   ],
   "source": [
    "word_ids = input_data.word_ids(0)\n",
    "word_ids"
   ]
  },
  {
   "cell_type": "code",
   "execution_count": 1,
   "metadata": {},
   "outputs": [],
   "source": [
    "from PIL import Image"
   ]
  }
 ],
 "metadata": {
  "kernelspec": {
   "display_name": "dev",
   "language": "python",
   "name": "python3"
  },
  "language_info": {
   "codemirror_mode": {
    "name": "ipython",
    "version": 3
   },
   "file_extension": ".py",
   "mimetype": "text/x-python",
   "name": "python",
   "nbconvert_exporter": "python",
   "pygments_lexer": "ipython3",
   "version": "3.10.16"
  }
 },
 "nbformat": 4,
 "nbformat_minor": 2
}
